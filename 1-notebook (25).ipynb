{
 "cells": [
  {
   "cell_type": "markdown",
   "id": "c4794d53-bfb2-4b3c-b669-42cd6f53009f",
   "metadata": {},
   "source": [
    "# **1-notebook**"
   ]
  },
  {
   "cell_type": "markdown",
   "id": "ff913532-a667-4060-aae0-60406b842f3a",
   "metadata": {},
   "source": [
    "## **This is my first notebook.**"
   ]
  },
  {
   "cell_type": "markdown",
   "id": "2917f677-0500-4414-ad64-026682966cc7",
   "metadata": {},
   "source": [
    "### Languages Used in Data Science\n",
    "\n",
    "- Python  \n",
    "- R  \n",
    "- SQL  \n",
    "- Julia  \n",
    "- Java  \n",
    "- Scala  \n",
    "- MATLAB  \n"
   ]
  },
  {
   "cell_type": "markdown",
   "id": "9a75ce58-21ac-480f-8942-c0a5976d17ae",
   "metadata": {},
   "source": [
    "### Popular Data Science Libraries\n",
    "\n",
    "- NumPy  \n",
    "- Pandas  \n",
    "- Matplotlib  \n",
    "- Seaborn  \n",
    "- Scikit-learn  \n",
    "- TensorFlow  \n",
    "- Keras  \n",
    "- PyTorch\n"
   ]
  },
  {
   "cell_type": "markdown",
   "id": "2fddb015-e4c5-4297-b3f7-1a5972b8d016",
   "metadata": {},
   "source": [
    "### Data Science Tools\n",
    "\n",
    "| Tool           | Category           |\n",
    "|----------------|--------------------|\n",
    "| Jupyter        | Notebook Interface |\n",
    "| RStudio        | IDE                |\n",
    "| Apache Spark   | Big Data Framework |\n",
    "| TensorFlow     | Deep Learning      |\n",
    "| RapidMiner     | Data Mining Tool   |\n"
   ]
  },
  {
   "cell_type": "markdown",
   "id": "d83e0a83-aebb-4902-a0c9-f1ea2f20a440",
   "metadata": {},
   "source": [
    "### Arithmetic Expression Examples\n",
    "\n",
    "Below are some basic examples of arithmetic operations such as addition, subtraction, multiplication, and division.\n"
   ]
  },
  {
   "cell_type": "markdown",
   "id": "0e0f3ad7-bc12-4147-972b-37807ea771d9",
   "metadata": {},
   "source": [
    "# Multiply and add numbers\n",
    "a = 5\n",
    "b = 10\n",
    "result = a * b + 20\n",
    "print(\"The result is:\", result)\n"
   ]
  },
  {
   "cell_type": "markdown",
   "id": "b7f77fef-0548-4f41-8c28-7fe8afdc9cdf",
   "metadata": {},
   "source": [
    "# Convert minutes to hours\n",
    "minutes = 150\n",
    "hours = minutes / 60\n",
    "print(f\"{minutes} minutes is equal to {hours} hours\")\n"
   ]
  },
  {
   "cell_type": "markdown",
   "id": "1e2e270f-1d1e-49c5-903a-c4f8c28b59ec",
   "metadata": {},
   "source": [
    "### Objectives\n",
    "\n",
    "- List popular languages used in Data Science  \n",
    "- Identify commonly used Data Science libraries  \n",
    "- Understand basic arithmetic operations using Python  \n",
    "- Convert minutes into hours using code  \n",
    "- Share notebooks through GitHub  \n",
    "- Document work using Markdown cells\n"
   ]
  },
  {
   "cell_type": "markdown",
   "id": "40a335d7-7b54-4042-9162-3fa2cd2360bb",
   "metadata": {},
   "source": [
    "**Author:** Muhammad Shaheer\n"
   ]
  },
  {
   "cell_type": "code",
   "execution_count": null,
   "id": "61d11ee5-f3a1-4ab4-b5f0-a19dc1768106",
   "metadata": {},
   "outputs": [],
   "source": []
  }
 ],
 "metadata": {
  "kernelspec": {
   "display_name": "Python 3 (ipykernel)",
   "language": "python",
   "name": "python3"
  },
  "language_info": {
   "codemirror_mode": {
    "name": "ipython",
    "version": 3
   },
   "file_extension": ".py",
   "mimetype": "text/x-python",
   "name": "python",
   "nbconvert_exporter": "python",
   "pygments_lexer": "ipython3",
   "version": "3.12.2"
  }
 },
 "nbformat": 4,
 "nbformat_minor": 5
}
